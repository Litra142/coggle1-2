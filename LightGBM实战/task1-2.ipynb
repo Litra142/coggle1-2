{
 "cells": [
  {
   "cell_type": "code",
   "execution_count": 2,
   "id": "86bbcd8c-5bc7-48fd-851b-1156129b06b8",
   "metadata": {},
   "outputs": [
    {
     "name": "stdout",
     "output_type": "stream",
     "text": [
      "Requirement already satisfied: lightgbm in d:\\anoconda\\lib\\site-packages (3.3.1)\n",
      "Requirement already satisfied: wheel in d:\\anoconda\\lib\\site-packages (from lightgbm) (0.36.2)\n",
      "Requirement already satisfied: scikit-learn!=0.22.0 in d:\\anoconda\\lib\\site-packages (from lightgbm) (0.24.1)\n",
      "Requirement already satisfied: numpy in d:\\anoconda\\lib\\site-packages (from lightgbm) (1.18.5)\n",
      "Requirement already satisfied: scipy in d:\\anoconda\\lib\\site-packages (from lightgbm) (1.4.1)\n",
      "Requirement already satisfied: threadpoolctl>=2.0.0 in d:\\anoconda\\lib\\site-packages (from scikit-learn!=0.22.0->lightgbm) (2.1.0)\n",
      "Requirement already satisfied: joblib>=0.11 in d:\\anoconda\\lib\\site-packages (from scikit-learn!=0.22.0->lightgbm) (1.0.1)\n"
     ]
    },
    {
     "name": "stderr",
     "output_type": "stream",
     "text": [
      "D:\\anoconda\\lib\\site-packages\\pip\\_internal\\commands\\install.py:230: UserWarning: Disabling all use of wheels due to the use of --build-option / --global-option / --install-option.\n",
      "  cmdoptions.check_install_build_global(options)\n"
     ]
    }
   ],
   "source": [
    "# 安装LightGBM\n",
    "!pip install lightgbm --install-option=--gpu"
   ]
  },
  {
   "cell_type": "code",
   "execution_count": 1,
   "id": "cec4b24b-ba6b-4c37-bede-ef1dffb1fb6a",
   "metadata": {},
   "outputs": [],
   "source": [
    "# 导入\n",
    "import lightgbm as lgb\n",
    "import pandas as pd\n",
    "import json\n",
    "from sklearn import datasets"
   ]
  },
  {
   "cell_type": "code",
   "execution_count": 2,
   "id": "9e74ae5c-10c1-4596-8608-1ea3ffe79293",
   "metadata": {},
   "outputs": [
    {
     "name": "stdout",
     "output_type": "stream",
     "text": [
      "[1]\tvalid_0's multi_logloss: 0.998257\n",
      "[2]\tvalid_0's multi_logloss: 0.87888\n",
      "[3]\tvalid_0's multi_logloss: 0.802809\n",
      "[4]\tvalid_0's multi_logloss: 0.723778\n",
      "[5]\tvalid_0's multi_logloss: 0.65558\n",
      "[6]\tvalid_0's multi_logloss: 0.60953\n",
      "[7]\tvalid_0's multi_logloss: 0.553635\n",
      "[8]\tvalid_0's multi_logloss: 0.499817\n",
      "[9]\tvalid_0's multi_logloss: 0.471947\n",
      "[10]\tvalid_0's multi_logloss: 0.438747\n",
      "[11]\tvalid_0's multi_logloss: 0.404308\n",
      "[12]\tvalid_0's multi_logloss: 0.387417\n",
      "Train Accuracy Score: 0.96\n",
      "Test Accuracy Score: 0.97\n"
     ]
    }
   ],
   "source": [
    "# 导入鸢尾花数据集\n",
    "iris = datasets.load_iris()\n",
    "iris.data.shape\n",
    "\n",
    "#构建数据集\n",
    "from sklearn.model_selection import train_test_split as TTS\n",
    "#将iris划分为训练集和测试机\n",
    "train_data_all,test_data, train_y_all, test_y = TTS(iris.data, iris.target, test_size=0.2, random_state=42, shuffle=True)\n",
    "train_data, val_data, train_y, val_y = TTS(train_data_all, train_y_all, test_size=0.2, random_state=42, shuffle=True)\n",
    "train_data.shape\n",
    "\n",
    "#构建LGB的训练集\n",
    "lgb_train = lgb.Dataset(train_data, train_y)\n",
    "lgb_val = lgb.Dataset(val_data, val_y)\n",
    "\n",
    "#设置模型参数\n",
    "params = {\n",
    "    \"objective\":\"multiclass\",\n",
    "    \"num_classes\":3,\n",
    "    \"verbosity\":-1\n",
    "}\n",
    "# 训练模型\n",
    "booster = lgb.train(params, train_set=lgb_train, valid_sets=lgb_val, num_boost_round=12)\n",
    "\n",
    "#使用训练的模型对iris进行预测\n",
    "from sklearn.metrics import accuracy_score\n",
    "import numpy as np\n",
    "\n",
    "train_preds = np.argmax(booster.predict(train_data), axis=1)\n",
    "test_preds = np.argmax(booster.predict(test_data), axis=1)\n",
    "#测试结果\n",
    "print(\"Train Accuracy Score: %.2f\"%accuracy_score(train_y, train_preds))\n",
    "print(\"Test Accuracy Score: %.2f\"%accuracy_score(test_y, test_preds))"
   ]
  },
  {
   "cell_type": "code",
   "execution_count": 4,
   "id": "042e3a23-414b-4f95-a007-d64ea4a44e75",
   "metadata": {},
   "outputs": [],
   "source": [
    "#模型保存\n",
    "import pickle\n",
    "pickle.dump(booster,open('model.pickle','wb'))"
   ]
  },
  {
   "cell_type": "code",
   "execution_count": 22,
   "id": "aacc1caa-314e-4efd-89a1-e9ce878a08c7",
   "metadata": {},
   "outputs": [
    {
     "data": {
      "text/plain": [
       "<lightgbm.basic.Booster at 0x1acb8715e80>"
      ]
     },
     "execution_count": 22,
     "metadata": {},
     "output_type": "execute_result"
    }
   ],
   "source": [
    "#使用txt进行保存\n",
    "booster.save_model('model.txt')"
   ]
  },
  {
   "cell_type": "code",
   "execution_count": 24,
   "id": "a2fe8442-e2d7-4b3d-bb4b-2ebaf56731de",
   "metadata": {},
   "outputs": [
    {
     "name": "stdout",
     "output_type": "stream",
     "text": [
      "y_pred_pickle: [1 0 2 1 2 0 1 2 1 1 2 0 0 0 0 1 2 1 1 2 0 2 0 2 2 2 2 2 0 0]\n",
      "y_pred_txt: [1 0 2 1 2 0 1 2 1 1 2 0 0 0 0 1 2 1 1 2 0 2 0 2 2 2 2 2 0 0]\n"
     ]
    }
   ],
   "source": [
    "#加载模型，并进行预测\n",
    "model_pickle = pickle.load(open('model.pickle','rb'))\n",
    "y_pred_pickle = np.argmax(model_pickle.predict(test_data), axis=1)\n",
    "print(\"y_pred_pickle:\",y_pred_pickle)\n",
    "# txt读取\n",
    "model_txt = lgb.Booster(model_file='model.txt')\n",
    "y_pred_txt = np.argmax(model_txt.predict(test_data), axis=1)\n",
    "print(\"y_pred_txt:\",y_pred_txt)"
   ]
  },
  {
   "cell_type": "code",
   "execution_count": null,
   "id": "94542910-d3b9-45ee-8acb-09bdcba471e7",
   "metadata": {},
   "outputs": [],
   "source": []
  }
 ],
 "metadata": {
  "kernelspec": {
   "display_name": "Python 3",
   "language": "python",
   "name": "python3"
  },
  "language_info": {
   "codemirror_mode": {
    "name": "ipython",
    "version": 3
   },
   "file_extension": ".py",
   "mimetype": "text/x-python",
   "name": "python",
   "nbconvert_exporter": "python",
   "pygments_lexer": "ipython3",
   "version": "3.8.8"
  }
 },
 "nbformat": 4,
 "nbformat_minor": 5
}
