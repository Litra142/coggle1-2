{
 "cells": [
  {
   "cell_type": "markdown",
   "id": "259c74b8-f882-4fc3-81c0-547e39696121",
   "metadata": {},
   "source": [
    "## 将鸢尾花数据集分类树可视化"
   ]
  },
  {
   "cell_type": "code",
   "execution_count": 5,
   "id": "05839c0b-fbd0-45f8-9c7e-a3252e785759",
   "metadata": {},
   "outputs": [],
   "source": [
    "#导入库\n",
    "import lightgbm as lgb\n",
    "import pandas as pd\n",
    "import numpy as np\n",
    "import graphviz\n",
    "from sklearn import tree\n",
    "import matplotlib.pyplot as plt\n",
    "from sklearn.datasets import load_iris\n",
    "from sklearn.model_selection import train_test_split as TTS\n",
    "from sklearn.metrics import accuracy_score"
   ]
  },
  {
   "cell_type": "code",
   "execution_count": 20,
   "id": "2a46c96e-8d0e-4362-9312-5ac88fcf8371",
   "metadata": {
    "tags": []
   },
   "outputs": [
    {
     "data": {
      "text/html": [
       "<div>\n",
       "<style scoped>\n",
       "    .dataframe tbody tr th:only-of-type {\n",
       "        vertical-align: middle;\n",
       "    }\n",
       "\n",
       "    .dataframe tbody tr th {\n",
       "        vertical-align: top;\n",
       "    }\n",
       "\n",
       "    .dataframe thead th {\n",
       "        text-align: right;\n",
       "    }\n",
       "</style>\n",
       "<table border=\"1\" class=\"dataframe\">\n",
       "  <thead>\n",
       "    <tr style=\"text-align: right;\">\n",
       "      <th></th>\n",
       "      <th>calyx length</th>\n",
       "      <th>calyx width</th>\n",
       "      <th>petal length</th>\n",
       "      <th>petal width</th>\n",
       "    </tr>\n",
       "  </thead>\n",
       "  <tbody>\n",
       "    <tr>\n",
       "      <th>0</th>\n",
       "      <td>5.1</td>\n",
       "      <td>3.5</td>\n",
       "      <td>1.4</td>\n",
       "      <td>0.2</td>\n",
       "    </tr>\n",
       "    <tr>\n",
       "      <th>1</th>\n",
       "      <td>4.9</td>\n",
       "      <td>3.0</td>\n",
       "      <td>1.4</td>\n",
       "      <td>0.2</td>\n",
       "    </tr>\n",
       "    <tr>\n",
       "      <th>2</th>\n",
       "      <td>4.7</td>\n",
       "      <td>3.2</td>\n",
       "      <td>1.3</td>\n",
       "      <td>0.2</td>\n",
       "    </tr>\n",
       "    <tr>\n",
       "      <th>3</th>\n",
       "      <td>4.6</td>\n",
       "      <td>3.1</td>\n",
       "      <td>1.5</td>\n",
       "      <td>0.2</td>\n",
       "    </tr>\n",
       "    <tr>\n",
       "      <th>4</th>\n",
       "      <td>5.0</td>\n",
       "      <td>3.6</td>\n",
       "      <td>1.4</td>\n",
       "      <td>0.2</td>\n",
       "    </tr>\n",
       "    <tr>\n",
       "      <th>...</th>\n",
       "      <td>...</td>\n",
       "      <td>...</td>\n",
       "      <td>...</td>\n",
       "      <td>...</td>\n",
       "    </tr>\n",
       "    <tr>\n",
       "      <th>145</th>\n",
       "      <td>6.7</td>\n",
       "      <td>3.0</td>\n",
       "      <td>5.2</td>\n",
       "      <td>2.3</td>\n",
       "    </tr>\n",
       "    <tr>\n",
       "      <th>146</th>\n",
       "      <td>6.3</td>\n",
       "      <td>2.5</td>\n",
       "      <td>5.0</td>\n",
       "      <td>1.9</td>\n",
       "    </tr>\n",
       "    <tr>\n",
       "      <th>147</th>\n",
       "      <td>6.5</td>\n",
       "      <td>3.0</td>\n",
       "      <td>5.2</td>\n",
       "      <td>2.0</td>\n",
       "    </tr>\n",
       "    <tr>\n",
       "      <th>148</th>\n",
       "      <td>6.2</td>\n",
       "      <td>3.4</td>\n",
       "      <td>5.4</td>\n",
       "      <td>2.3</td>\n",
       "    </tr>\n",
       "    <tr>\n",
       "      <th>149</th>\n",
       "      <td>5.9</td>\n",
       "      <td>3.0</td>\n",
       "      <td>5.1</td>\n",
       "      <td>1.8</td>\n",
       "    </tr>\n",
       "  </tbody>\n",
       "</table>\n",
       "<p>150 rows × 4 columns</p>\n",
       "</div>"
      ],
      "text/plain": [
       "     calyx length  calyx width  petal length  petal width\n",
       "0             5.1          3.5           1.4          0.2\n",
       "1             4.9          3.0           1.4          0.2\n",
       "2             4.7          3.2           1.3          0.2\n",
       "3             4.6          3.1           1.5          0.2\n",
       "4             5.0          3.6           1.4          0.2\n",
       "..            ...          ...           ...          ...\n",
       "145           6.7          3.0           5.2          2.3\n",
       "146           6.3          2.5           5.0          1.9\n",
       "147           6.5          3.0           5.2          2.0\n",
       "148           6.2          3.4           5.4          2.3\n",
       "149           5.9          3.0           5.1          1.8\n",
       "\n",
       "[150 rows x 4 columns]"
      ]
     },
     "execution_count": 20,
     "metadata": {},
     "output_type": "execute_result"
    }
   ],
   "source": [
    "# 导入鸢尾花数据集\n",
    "iris = load_iris()\n",
    "target = iris.target\n",
    "feature_names = [\"calyx length\", \"calyx width\", \"petal length\", \"petal width\"]\n",
    "data = pd.DataFrame(iris.data, columns=feature_names)\n",
    "data"
   ]
  },
  {
   "cell_type": "code",
   "execution_count": 21,
   "id": "bb2f7479-17dc-43b7-a52e-e0638a1f0c6b",
   "metadata": {
    "tags": []
   },
   "outputs": [
    {
     "name": "stdout",
     "output_type": "stream",
     "text": [
      "[1]\tvalid_0's multi_logloss: 0.998257\n",
      "[2]\tvalid_0's multi_logloss: 0.87888\n",
      "[3]\tvalid_0's multi_logloss: 0.802809\n",
      "[4]\tvalid_0's multi_logloss: 0.723778\n",
      "[5]\tvalid_0's multi_logloss: 0.65558\n",
      "[6]\tvalid_0's multi_logloss: 0.60953\n",
      "[7]\tvalid_0's multi_logloss: 0.553635\n",
      "[8]\tvalid_0's multi_logloss: 0.499817\n",
      "[9]\tvalid_0's multi_logloss: 0.471947\n",
      "[10]\tvalid_0's multi_logloss: 0.438747\n",
      "[11]\tvalid_0's multi_logloss: 0.404308\n",
      "[12]\tvalid_0's multi_logloss: 0.387417\n",
      "Train Accuracy Score: 0.96\n",
      "Test Accuracy Score: 0.97\n"
     ]
    }
   ],
   "source": [
    "#将iris划分为训练集和测试机\n",
    "train_data_all,test_data, train_y_all, test_y = TTS(data, target, test_size=0.2, random_state=42, shuffle=True)\n",
    "train_data, val_data, train_y, val_y = TTS(train_data_all, train_y_all, test_size=0.2, random_state=42, shuffle=True)\n",
    "\n",
    "#构建LGB的训练集\n",
    "lgb_train = lgb.Dataset(train_data, train_y)\n",
    "lgb_val = lgb.Dataset(val_data, val_y)\n",
    "\n",
    "#设置模型参数\n",
    "params = {\n",
    "    \"objective\":\"multiclass\",\n",
    "    \"num_classes\":3,\n",
    "    \"verbosity\":-1\n",
    "}\n",
    "# 训练模型\n",
    "booster = lgb.train(params, train_set=lgb_train, valid_sets=lgb_val, num_boost_round=12)\n",
    "\n",
    "#使用训练的模型对iris进行预测\n",
    "train_preds = np.argmax(booster.predict(train_data), axis=1)\n",
    "test_preds = np.argmax(booster.predict(test_data), axis=1)\n",
    "#测试结果\n",
    "print(\"Train Accuracy Score: %.2f\"%accuracy_score(train_y, train_preds))\n",
    "print(\"Test Accuracy Score: %.2f\"%accuracy_score(test_y, test_preds))"
   ]
  },
  {
   "cell_type": "code",
   "execution_count": 22,
   "id": "f110b972-47b6-4de5-9742-e277d27700be",
   "metadata": {},
   "outputs": [
    {
     "data": {
      "image/png": "[encoded data removed]",
      "text/plain": [
       "<Figure size 432x288 with 1 Axes>"
      ]
     },
     "metadata": {
      "needs_background": "light"
     },
     "output_type": "display_data"
    }
   ],
   "source": [
    "ax = lgb.plot_importance(booster)\n",
    "plt.show;"
   ]
  },
  {
   "cell_type": "code",
   "execution_count": 28,
   "id": "0b1afa0d-40d5-495d-95a5-abb61665afa1",
   "metadata": {
    "tags": []
   },
   "outputs": [
    {
     "data": {
      "image/svg+xml": [
       "<?xml version=\"1.0\" encoding=\"UTF-8\" standalone=\"no\"?>\r\n",
       "<!DOCTYPE svg PUBLIC \"-//W3C//DTD SVG 1.1//EN\"\r\n",
       " \"http://www.w3.org/Graphics/SVG/1.1/DTD/svg11.dtd\">\r\n",
       "<!-- Generated by graphviz version 2.38.0 (20140413.2041)\r\n",
       " -->\r\n",
       "<!-- Title: %3 Pages: 1 -->\r\n",
       "<svg width=\"323pt\" height=\"190pt\"\r\n",
       " viewBox=\"0.00 0.00 322.59 190.00\" xmlns=\"http://www.w3.org/2000/svg\" xmlns:xlink=\"http://www.w3.org/1999/xlink\">\r\n",
       "<g id=\"graph0\" class=\"graph\" transform=\"scale(1 1) rotate(0) translate(4 186)\">\r\n",
       "<title>%3</title>\r\n",
       "<polygon fill=\"white\" stroke=\"none\" points=\"-4,4 -4,-186 318.589,-186 318.589,4 -4,4\"/>\r\n",
       "<!-- split0 -->\r\n",
       "<g id=\"node1\" class=\"node\"><title>split0</title>\r\n",
       "<polygon fill=\"none\" stroke=\"black\" points=\"168.795,-182 30.7947,-182 30.7947,-146 168.795,-146 168.795,-182\"/>\r\n",
       "<text text-anchor=\"start\" x=\"38.7947\" y=\"-161.3\" font-family=\"Times New Roman,serif\" font-weight=\"bold\" font-size=\"14.00\">petal_length</text>\r\n",
       "<text text-anchor=\"start\" x=\"114.795\" y=\"-161.3\" font-family=\"Times New Roman,serif\" font-size=\"14.00\"> ≤</text>\r\n",
       "<text text-anchor=\"start\" x=\"126.795\" y=\"-161.3\" font-family=\"Times New Roman,serif\" font-weight=\"bold\" font-size=\"14.00\">1.800</text>\r\n",
       "</g>\r\n",
       "<!-- leaf0 -->\r\n",
       "<g id=\"node2\" class=\"node\"><title>leaf0</title>\r\n",
       "<ellipse fill=\"none\" stroke=\"black\" cx=\"59.7947\" cy=\"-91\" rx=\"59.5901\" ry=\"18\"/>\r\n",
       "<text text-anchor=\"start\" x=\"21.7947\" y=\"-88.3\" font-family=\"Times New Roman,serif\" font-size=\"14.00\">leaf 0: </text>\r\n",
       "<text text-anchor=\"start\" x=\"58.7947\" y=\"-88.3\" font-family=\"Times New Roman,serif\" font-weight=\"bold\" font-size=\"14.00\">&#45;0.899</text>\r\n",
       "</g>\r\n",
       "<!-- split0&#45;&gt;leaf0 -->\r\n",
       "<g id=\"edge1\" class=\"edge\"><title>split0&#45;&gt;leaf0</title>\r\n",
       "<path fill=\"none\" stroke=\"black\" d=\"M90.1118,-145.813C85.3951,-137.441 79.6241,-127.197 74.3877,-117.903\"/>\r\n",
       "<polygon fill=\"black\" stroke=\"black\" points=\"77.3463,-116.023 69.3884,-109.029 71.2475,-119.459 77.3463,-116.023\"/>\r\n",
       "<text text-anchor=\"middle\" x=\"93.2947\" y=\"-123.8\" font-family=\"Times New Roman,serif\" font-size=\"14.00\">yes</text>\r\n",
       "</g>\r\n",
       "<!-- split1 -->\r\n",
       "<g id=\"node3\" class=\"node\"><title>split1</title>\r\n",
       "<polygon fill=\"none\" stroke=\"black\" points=\"261.795,-109 123.795,-109 123.795,-73 261.795,-73 261.795,-109\"/>\r\n",
       "<text text-anchor=\"start\" x=\"131.795\" y=\"-88.3\" font-family=\"Times New Roman,serif\" font-weight=\"bold\" font-size=\"14.00\">petal_length</text>\r\n",
       "<text text-anchor=\"start\" x=\"207.795\" y=\"-88.3\" font-family=\"Times New Roman,serif\" font-size=\"14.00\"> ≤</text>\r\n",
       "<text text-anchor=\"start\" x=\"219.795\" y=\"-88.3\" font-family=\"Times New Roman,serif\" font-weight=\"bold\" font-size=\"14.00\">4.450</text>\r\n",
       "</g>\r\n",
       "<!-- split0&#45;&gt;split1 -->\r\n",
       "<g id=\"edge4\" class=\"edge\"><title>split0&#45;&gt;split1</title>\r\n",
       "<path fill=\"none\" stroke=\"black\" d=\"M122.307,-145.813C134.302,-136.656 149.229,-125.26 162.254,-115.316\"/>\r\n",
       "<polygon fill=\"black\" stroke=\"black\" points=\"164.665,-117.879 170.489,-109.029 160.417,-112.315 164.665,-117.879\"/>\r\n",
       "<text text-anchor=\"middle\" x=\"161.295\" y=\"-123.8\" font-family=\"Times New Roman,serif\" font-size=\"14.00\">no</text>\r\n",
       "</g>\r\n",
       "<!-- leaf1 -->\r\n",
       "<g id=\"node4\" class=\"node\"><title>leaf1</title>\r\n",
       "<ellipse fill=\"none\" stroke=\"black\" cx=\"130.795\" cy=\"-18\" rx=\"59.5901\" ry=\"18\"/>\r\n",
       "<text text-anchor=\"start\" x=\"92.7947\" y=\"-15.3\" font-family=\"Times New Roman,serif\" font-size=\"14.00\">leaf 1: </text>\r\n",
       "<text text-anchor=\"start\" x=\"129.795\" y=\"-15.3\" font-family=\"Times New Roman,serif\" font-weight=\"bold\" font-size=\"14.00\">&#45;1.184</text>\r\n",
       "</g>\r\n",
       "<!-- split1&#45;&gt;leaf1 -->\r\n",
       "<g id=\"edge2\" class=\"edge\"><title>split1&#45;&gt;leaf1</title>\r\n",
       "<path fill=\"none\" stroke=\"black\" d=\"M177.786,-72.8129C170.059,-63.9636 160.505,-53.0236 152.035,-43.3234\"/>\r\n",
       "<polygon fill=\"black\" stroke=\"black\" points=\"154.452,-40.7702 145.238,-35.54 149.179,-45.3745 154.452,-40.7702\"/>\r\n",
       "<text text-anchor=\"middle\" x=\"176.295\" y=\"-50.8\" font-family=\"Times New Roman,serif\" font-size=\"14.00\">yes</text>\r\n",
       "</g>\r\n",
       "<!-- leaf2 -->\r\n",
       "<g id=\"node5\" class=\"node\"><title>leaf2</title>\r\n",
       "<ellipse fill=\"none\" stroke=\"black\" cx=\"254.795\" cy=\"-18\" rx=\"59.5901\" ry=\"18\"/>\r\n",
       "<text text-anchor=\"start\" x=\"216.795\" y=\"-15.3\" font-family=\"Times New Roman,serif\" font-size=\"14.00\">leaf 2: </text>\r\n",
       "<text text-anchor=\"start\" x=\"253.795\" y=\"-15.3\" font-family=\"Times New Roman,serif\" font-weight=\"bold\" font-size=\"14.00\">&#45;1.199</text>\r\n",
       "</g>\r\n",
       "<!-- split1&#45;&gt;leaf2 -->\r\n",
       "<g id=\"edge3\" class=\"edge\"><title>split1&#45;&gt;leaf2</title>\r\n",
       "<path fill=\"none\" stroke=\"black\" d=\"M207.803,-72.8129C215.531,-63.9636 225.084,-53.0236 233.555,-43.3234\"/>\r\n",
       "<polygon fill=\"black\" stroke=\"black\" points=\"236.41,-45.3745 240.351,-35.54 231.137,-40.7702 236.41,-45.3745\"/>\r\n",
       "<text text-anchor=\"middle\" x=\"236.295\" y=\"-50.8\" font-family=\"Times New Roman,serif\" font-size=\"14.00\">no</text>\r\n",
       "</g>\r\n",
       "</g>\r\n",
       "</svg>\r\n"
      ],
      "text/plain": [
       "<graphviz.dot.Digraph at 0x21e842c4640>"
      ]
     },
     "execution_count": 28,
     "metadata": {},
     "output_type": "execute_result"
    }
   ],
   "source": [
    "lgb.create_tree_digraph(booster, tree_index=0,orientation='vertical')"
   ]
  },
  {
   "cell_type": "code",
   "execution_count": 29,
   "id": "6c13cb2e-1b39-4874-b399-8ed09ff9e8c5",
   "metadata": {},
   "outputs": [
    {
     "data": {
      "image/svg+xml": [
       "<?xml version=\"1.0\" encoding=\"UTF-8\" standalone=\"no\"?>\r\n",
       "<!DOCTYPE svg PUBLIC \"-//W3C//DTD SVG 1.1//EN\"\r\n",
       " \"http://www.w3.org/Graphics/SVG/1.1/DTD/svg11.dtd\">\r\n",
       "<!-- Generated by graphviz version 2.38.0 (20140413.2041)\r\n",
       " -->\r\n",
       "<!-- Title: %3 Pages: 1 -->\r\n",
       "<svg width=\"317pt\" height=\"190pt\"\r\n",
       " viewBox=\"0.00 0.00 316.59 190.00\" xmlns=\"http://www.w3.org/2000/svg\" xmlns:xlink=\"http://www.w3.org/1999/xlink\">\r\n",
       "<g id=\"graph0\" class=\"graph\" transform=\"scale(1 1) rotate(0) translate(4 186)\">\r\n",
       "<title>%3</title>\r\n",
       "<polygon fill=\"white\" stroke=\"none\" points=\"-4,4 -4,-186 312.589,-186 312.589,4 -4,4\"/>\r\n",
       "<!-- split0 -->\r\n",
       "<g id=\"node1\" class=\"node\"><title>split0</title>\r\n",
       "<polygon fill=\"none\" stroke=\"black\" points=\"160.795,-182 34.7947,-182 34.7947,-146 160.795,-146 160.795,-182\"/>\r\n",
       "<text text-anchor=\"start\" x=\"42.7947\" y=\"-161.3\" font-family=\"Times New Roman,serif\" font-weight=\"bold\" font-size=\"14.00\">Column_2</text>\r\n",
       "<text text-anchor=\"start\" x=\"106.795\" y=\"-161.3\" font-family=\"Times New Roman,serif\" font-size=\"14.00\"> ≤</text>\r\n",
       "<text text-anchor=\"start\" x=\"118.795\" y=\"-161.3\" font-family=\"Times New Roman,serif\" font-weight=\"bold\" font-size=\"14.00\">1.800</text>\r\n",
       "</g>\r\n",
       "<!-- leaf0 -->\r\n",
       "<g id=\"node2\" class=\"node\"><title>leaf0</title>\r\n",
       "<ellipse fill=\"none\" stroke=\"black\" cx=\"59.7947\" cy=\"-91\" rx=\"59.5901\" ry=\"18\"/>\r\n",
       "<text text-anchor=\"start\" x=\"21.7947\" y=\"-88.3\" font-family=\"Times New Roman,serif\" font-size=\"14.00\">leaf 0: </text>\r\n",
       "<text text-anchor=\"start\" x=\"58.7947\" y=\"-88.3\" font-family=\"Times New Roman,serif\" font-weight=\"bold\" font-size=\"14.00\">&#45;0.899</text>\r\n",
       "</g>\r\n",
       "<!-- split0&#45;&gt;leaf0 -->\r\n",
       "<g id=\"edge1\" class=\"edge\"><title>split0&#45;&gt;leaf0</title>\r\n",
       "<path fill=\"none\" stroke=\"black\" d=\"M88.596,-145.813C84.115,-137.441 78.6326,-127.197 73.6581,-117.903\"/>\r\n",
       "<polygon fill=\"black\" stroke=\"black\" points=\"76.7134,-116.194 68.9087,-109.029 70.5417,-119.497 76.7134,-116.194\"/>\r\n",
       "<text text-anchor=\"middle\" x=\"92.2947\" y=\"-123.8\" font-family=\"Times New Roman,serif\" font-size=\"14.00\">yes</text>\r\n",
       "</g>\r\n",
       "<!-- split1 -->\r\n",
       "<g id=\"node3\" class=\"node\"><title>split1</title>\r\n",
       "<polygon fill=\"none\" stroke=\"black\" points=\"249.795,-109 123.795,-109 123.795,-73 249.795,-73 249.795,-109\"/>\r\n",
       "<text text-anchor=\"start\" x=\"131.795\" y=\"-88.3\" font-family=\"Times New Roman,serif\" font-weight=\"bold\" font-size=\"14.00\">Column_2</text>\r\n",
       "<text text-anchor=\"start\" x=\"195.795\" y=\"-88.3\" font-family=\"Times New Roman,serif\" font-size=\"14.00\"> ≤</text>\r\n",
       "<text text-anchor=\"start\" x=\"207.795\" y=\"-88.3\" font-family=\"Times New Roman,serif\" font-weight=\"bold\" font-size=\"14.00\">4.450</text>\r\n",
       "</g>\r\n",
       "<!-- split0&#45;&gt;split1 -->\r\n",
       "<g id=\"edge4\" class=\"edge\"><title>split0&#45;&gt;split1</title>\r\n",
       "<path fill=\"none\" stroke=\"black\" d=\"M119.339,-145.813C130.818,-136.656 145.103,-125.26 157.568,-115.316\"/>\r\n",
       "<polygon fill=\"black\" stroke=\"black\" points=\"159.814,-118.001 165.449,-109.029 155.449,-112.529 159.814,-118.001\"/>\r\n",
       "<text text-anchor=\"middle\" x=\"157.295\" y=\"-123.8\" font-family=\"Times New Roman,serif\" font-size=\"14.00\">no</text>\r\n",
       "</g>\r\n",
       "<!-- leaf1 -->\r\n",
       "<g id=\"node4\" class=\"node\"><title>leaf1</title>\r\n",
       "<ellipse fill=\"none\" stroke=\"black\" cx=\"124.795\" cy=\"-18\" rx=\"59.5901\" ry=\"18\"/>\r\n",
       "<text text-anchor=\"start\" x=\"86.7947\" y=\"-15.3\" font-family=\"Times New Roman,serif\" font-size=\"14.00\">leaf 1: </text>\r\n",
       "<text text-anchor=\"start\" x=\"123.795\" y=\"-15.3\" font-family=\"Times New Roman,serif\" font-weight=\"bold\" font-size=\"14.00\">&#45;1.184</text>\r\n",
       "</g>\r\n",
       "<!-- split1&#45;&gt;leaf1 -->\r\n",
       "<g id=\"edge2\" class=\"edge\"><title>split1&#45;&gt;leaf1</title>\r\n",
       "<path fill=\"none\" stroke=\"black\" d=\"M171.786,-72.8129C164.059,-63.9636 154.505,-53.0236 146.035,-43.3234\"/>\r\n",
       "<polygon fill=\"black\" stroke=\"black\" points=\"148.452,-40.7702 139.238,-35.54 143.179,-45.3745 148.452,-40.7702\"/>\r\n",
       "<text text-anchor=\"middle\" x=\"170.295\" y=\"-50.8\" font-family=\"Times New Roman,serif\" font-size=\"14.00\">yes</text>\r\n",
       "</g>\r\n",
       "<!-- leaf2 -->\r\n",
       "<g id=\"node5\" class=\"node\"><title>leaf2</title>\r\n",
       "<ellipse fill=\"none\" stroke=\"black\" cx=\"248.795\" cy=\"-18\" rx=\"59.5901\" ry=\"18\"/>\r\n",
       "<text text-anchor=\"start\" x=\"210.795\" y=\"-15.3\" font-family=\"Times New Roman,serif\" font-size=\"14.00\">leaf 2: </text>\r\n",
       "<text text-anchor=\"start\" x=\"247.795\" y=\"-15.3\" font-family=\"Times New Roman,serif\" font-weight=\"bold\" font-size=\"14.00\">&#45;1.199</text>\r\n",
       "</g>\r\n",
       "<!-- split1&#45;&gt;leaf2 -->\r\n",
       "<g id=\"edge3\" class=\"edge\"><title>split1&#45;&gt;leaf2</title>\r\n",
       "<path fill=\"none\" stroke=\"black\" d=\"M201.803,-72.8129C209.531,-63.9636 219.084,-53.0236 227.555,-43.3234\"/>\r\n",
       "<polygon fill=\"black\" stroke=\"black\" points=\"230.41,-45.3745 234.351,-35.54 225.137,-40.7702 230.41,-45.3745\"/>\r\n",
       "<text text-anchor=\"middle\" x=\"230.295\" y=\"-50.8\" font-family=\"Times New Roman,serif\" font-size=\"14.00\">no</text>\r\n",
       "</g>\r\n",
       "</g>\r\n",
       "</svg>\r\n"
      ],
      "text/plain": [
       "<graphviz.dot.Digraph at 0x21e844f8880>"
      ]
     },
     "execution_count": 29,
     "metadata": {},
     "output_type": "execute_result"
    }
   ],
   "source": [
    "## 读取任务2中的json格式模型文件\n",
    "import pickle\n",
    "model_pickle = pickle.load(open('model.pickle','rb'))\n",
    "lgb.create_tree_digraph(model_pickle, tree_index=0,orientation='vertical')"
   ]
  },
  {
   "cell_type": "code",
   "execution_count": null,
   "id": "20628c1c-350c-4945-8463-a447e7d94a6f",
   "metadata": {},
   "outputs": [],
   "source": []
  }
 ],
 "metadata": {
  "kernelspec": {
   "display_name": "Python 3",
   "language": "python",
   "name": "python3"
  },
  "language_info": {
   "codemirror_mode": {
    "name": "ipython",
    "version": 3
   },
   "file_extension": ".py",
   "mimetype": "text/x-python",
   "name": "python",
   "nbconvert_exporter": "python",
   "pygments_lexer": "ipython3",
   "version": "3.8.8"
  }
 },
 "nbformat": 4,
 "nbformat_minor": 5
}
