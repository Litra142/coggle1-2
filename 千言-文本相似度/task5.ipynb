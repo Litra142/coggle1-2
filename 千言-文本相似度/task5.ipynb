{
 "cells": [
  {
   "cell_type": "markdown",
   "id": "aeabf496-51b2-477e-96e9-85dbb685764e",
   "metadata": {},
   "source": [
    "任务5：搭建SiamCNN/LSTM模型，训练和预测\n",
    "\n",
    "- 步骤1 ：将训练好的word2vex作为深度学习embeeding层的初始化参数。\n",
    "- 步骤2 ：搭建SiamCNN（Word2Vec句子编码 + 1D CNN +FC）的孪生网络结构，完成训练和预测，提交测试集预测结果。\n",
    "- 步骤3 ：搭建SiamLSTM（Word2Vec句子编码 + LSTM + FC）的孪生网络结构，完成训练和预测，提交测试集预测结果。"
   ]
  },
  {
   "cell_type": "code",
   "execution_count": null,
   "id": "363310c5",
   "metadata": {},
   "outputs": [],
   "source": []
  }
 ],
 "metadata": {
  "kernelspec": {
   "display_name": "Python 3",
   "language": "python",
   "name": "python3"
  },
  "language_info": {
   "codemirror_mode": {
    "name": "ipython",
    "version": 3
   },
   "file_extension": ".py",
   "mimetype": "text/x-python",
   "name": "python",
   "nbconvert_exporter": "python",
   "pygments_lexer": "ipython3",
   "version": "3.8.8"
  }
 },
 "nbformat": 4,
 "nbformat_minor": 5
}
